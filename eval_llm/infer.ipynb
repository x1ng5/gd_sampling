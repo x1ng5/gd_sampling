{
 "cells": [
  {
   "cell_type": "code",
   "execution_count": 1,
   "metadata": {},
   "outputs": [],
   "source": [
    "from sglang import function, system, user, assistant, gen, set_default_backend, RuntimeEndpoint\n",
    "\n",
    "from utils.utils import(\n",
    "    read_jsonl,\n",
    "    get_majority_answer,\n",
    "    extract_rawdata_answer,\n",
    "    extract_completion_answer,\n",
    "    few_shot_prompt, INVALID_ANS,\n",
    ")"
   ]
  },
  {
   "cell_type": "code",
   "execution_count": 2,
   "metadata": {},
   "outputs": [],
   "source": [
    "gsm_8k_test = read_jsonl(\"./data/test.jsonl\")"
   ]
  },
  {
   "cell_type": "code",
   "execution_count": null,
   "metadata": {},
   "outputs": [
    {
     "name": "stderr",
     "output_type": "stream",
     "text": [
      "  0%|          | 0/10 [00:00<?, ?it/s]"
     ]
    },
    {
     "name": "stderr",
     "output_type": "stream",
     "text": [
      "100%|██████████| 10/10 [00:10<00:00,  1.01s/it]\n"
     ]
    }
   ],
   "source": [
    "@function\n",
    "def multi_turn_question(s, prompt, temperature = 1, **kwargs):\n",
    "    s += prompt\n",
    "    s += gen(\"A\", max_tokens=200, temperature=temperature,stop=\"\\nQ:\")\n",
    "    \n",
    "@function\n",
    "def multiple_sampling(s,prompt, sampling_num, temperature = 1, **kwargs):\n",
    "# (s, id, question, sampling_num, max_tokens, ground_truth_answer, temperature, model_type):\n",
    "    s += prompt\n",
    "    forks = s.fork(sampling_num)\n",
    "    forks += gen(\"A\", max_tokens=512, temperature=temperature,stop=\"\\nQ:\")\n",
    "    answers = []\n",
    "    for state in forks:\n",
    "        answers += [state[\"A\"]]\n",
    "    return answers\n",
    "\n",
    "set_default_backend(RuntimeEndpoint(\"http://localhost:30000\"))\n",
    "sampling_num = 10\n",
    "input_data_list = [\n",
    "    {\n",
    "        \"prompt\" : f\"{few_shot_prompt}\\n\\n\\nQ: {gsm_8k_item['question']}\\nA:\", \n",
    "        \"sampling_num\" : sampling_num, \n",
    "     } for gsm_8k_item in gsm_8k_test\n",
    "]\n",
    "gt_ans_list = [float(extract_rawdata_answer(gsm_8k_item['answer'])) for gsm_8k_item in gsm_8k_test]\n",
    "num_threads = 10\n",
    "# states = multiple_sampling.run_batch(\n",
    "#     input_data_list[:10],\n",
    "#     num_threads=num_threads, progress_bar=True\n",
    "# )\n",
    "states = multi_turn_question.run_batch(\n",
    "    input_data_list[:10],\n",
    "    num_threads=num_threads, progress_bar=True\n",
    ")"
   ]
  },
  {
   "cell_type": "code",
   "execution_count": 10,
   "metadata": {},
   "outputs": [],
   "source": [
    "import json\n",
    "\n",
    "with open(f\"./result/model_output.json\", \"w+\") as fp:\n",
    "    json.dump(\n",
    "        [state.ret_value for state in states],\n",
    "        fp\n",
    "    )\n"
   ]
  },
  {
   "cell_type": "code",
   "execution_count": null,
   "metadata": {},
   "outputs": [],
   "source": [
    "pre_ans_list = [get_majority_answer([extract_completion_answer(i) for i in state.ret_value ]) for state in states]"
   ]
  },
  {
   "cell_type": "code",
   "execution_count": 7,
   "metadata": {},
   "outputs": [
    {
     "data": {
      "text/plain": [
       "0.7"
      ]
     },
     "execution_count": 7,
     "metadata": {},
     "output_type": "execute_result"
    }
   ],
   "source": [
    "correct_count = 0\n",
    "all_testcase_count = 0\n",
    "for pre_ans, gt_ans in zip(pre_ans_list, gt_ans_list):\n",
    "    if abs(pre_ans - gt_ans) < 1e-3:\n",
    "        correct_count += 1\n",
    "    all_testcase_count += 1\n",
    "\n",
    "correct_count / all_testcase_count"
   ]
  },
  {
   "cell_type": "code",
   "execution_count": 22,
   "metadata": {},
   "outputs": [
    {
     "data": {
      "text/plain": [
       "ProgramState(Q: There are 15 trees in the grove. Grove workers will plant trees in the grove today. After they are done, there will be 21 trees. How many trees did the grove workers plant today?\n",
       "A: There are 15 trees originally. Then there were 21 trees after some more were planted. So there must have been 21 - 15 = 6. The answer is 6.\n",
       "\n",
       "\n",
       "Q: If there are 3 cars in the parking lot and 2 more cars arrive, how many cars are in the parking lot?\n",
       "A: There are originally 3 cars. 2 more cars arrive. 3 + 2 = 5. The answer is 5.\n",
       "\n",
       "\n",
       "Q: Leah had 32 chocolates and her sister had 42. If they ate 35, how many pieces do they have left in total?\n",
       "A: Originally, Leah had 32 chocolates. Her sister had 42. So in total they had 32 + 42 = 74. After eating 35, they had 74 - 35 = 39. The answer is 39.\n",
       "\n",
       "\n",
       "Q: Jason had 20 lollipops. He gave Denny some lollipops. Now Jason has 12 lollipops. How many lollipops did Jason give to Denny?\n",
       "A: Jason started with 20 lollipops. Then he had 12 after giving some to Denny. So he gave Denny 20 - 12 = 8. The answer is 8.\n",
       "\n",
       "\n",
       "Q: Shawn has five toys. For Christmas, he got two toys each from his mom and dad. How many toys does he have now?\n",
       "A: Shawn started with 5 toys. If he got 2 toys each from his mom and dad, then that is 4 more toys. 5 + 4 = 9. The answer is 9.\n",
       "\n",
       "\n",
       "Q: There were nine computers in the server room. Five more computers were installed each day, from monday to thursday. How many computers are now in the server room?\n",
       "A: There were originally 9 computers. For each of 4 days, 5 more computers were added. So 5 * 4 = 20 computers were added. 9 + 20 is 29. The answer is 29.\n",
       "\n",
       "\n",
       "Q: Michael had 58 golf balls. On tuesday, he lost 23 golf balls. On wednesday, he lost 2 more. How many golf balls did he have at the end of wednesday?\n",
       "A: Michael started with 58 golf balls. After losing 23 on tuesday, he had 58 - 23 = 35. After losing 2 more, he had 35 - 2 = 33 golf balls. The answer is 33.\n",
       "\n",
       "\n",
       "Q: Olivia has $23. She bought five bagels for $3 each. How much money does she have left?\n",
       "A: Olivia had 23 dollars. 5 bagels for 3 dollars each will be 5 x 3 = 15 dollars. So she has 23 - 15 dollars left. 23 - 15 is 8. The answer is 8.\n",
       "\n",
       "\n",
       "Q: Janet’s ducks lay 16 eggs per day. She eats three for breakfast every morning and bakes muffins for her friends every day with four. She sells the remainder at the farmers' market daily for $2 per fresh duck egg. How much in dollars does she make every day at the farmers' market?\n",
       "A: Her ducks lay 16 eggs every day. She eats 3 eggs every morning and bakes 4 muffins with the rest. So the sale amount each day is 16 - 3 - 4 = 9 eggs. So her daily farmer’s market income is 9 x 2 = 18 dollars. The answer is 18.\n",
       "\n",
       ")"
      ]
     },
     "execution_count": 22,
     "metadata": {},
     "output_type": "execute_result"
    }
   ],
   "source": [
    "states[0]"
   ]
  }
 ],
 "metadata": {
  "kernelspec": {
   "display_name": "sglang",
   "language": "python",
   "name": "python3"
  },
  "language_info": {
   "codemirror_mode": {
    "name": "ipython",
    "version": 3
   },
   "file_extension": ".py",
   "mimetype": "text/x-python",
   "name": "python",
   "nbconvert_exporter": "python",
   "pygments_lexer": "ipython3",
   "version": "3.10.15"
  }
 },
 "nbformat": 4,
 "nbformat_minor": 2
}
